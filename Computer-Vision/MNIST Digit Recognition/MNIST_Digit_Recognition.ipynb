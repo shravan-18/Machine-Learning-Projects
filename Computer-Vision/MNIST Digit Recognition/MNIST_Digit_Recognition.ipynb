{
  "nbformat": 4,
  "nbformat_minor": 0,
  "metadata": {
    "colab": {
      "provenance": [],
      "gpuType": "T4"
    },
    "kernelspec": {
      "name": "python3",
      "display_name": "Python 3"
    },
    "language_info": {
      "name": "python"
    },
    "accelerator": "GPU"
  },
  "cells": [
    {
      "cell_type": "markdown",
      "source": [
        "# **MNIST_Digit_Recognition**"
      ],
      "metadata": {
        "id": "NbAb5qNblxAM"
      }
    },
    {
      "cell_type": "markdown",
      "source": [
        "## **Introduction:**\n",
        " This notebook demonstrates digit recognition using Convolutional Neural Networks on the MNIST dataset."
      ],
      "metadata": {
        "id": "r54Nkqp9l3B6"
      }
    },
    {
      "cell_type": "markdown",
      "source": [
        "#**Dataset**\n",
        "We use the MNIST Digit Recognition Dataset, to correctly identify digits from a dataset of tens of thousands of handwritten images - [Dataset Link](https://www.kaggle.com/competitions/digit-recognizer/data)"
      ],
      "metadata": {
        "id": "iYuTrQmRmyVD"
      }
    },
    {
      "cell_type": "markdown",
      "source": [
        "#**Importing Necessary Libraries and Datset**"
      ],
      "metadata": {
        "id": "iLyAA7oVms5j"
      }
    },
    {
      "cell_type": "code",
      "source": [
        "import random\n",
        "import pandas as pd\n",
        "import numpy as np\n",
        "import tensorflow as tf\n",
        "import matplotlib.pyplot as plt"
      ],
      "metadata": {
        "id": "qwohOcAUSQuP"
      },
      "execution_count": 1,
      "outputs": []
    },
    {
      "cell_type": "code",
      "execution_count": 2,
      "metadata": {
        "colab": {
          "base_uri": "https://localhost:8080/"
        },
        "id": "eYldVwmmRjaR",
        "outputId": "54a31c21-4038-4a0b-9025-180385ee04a2"
      },
      "outputs": [
        {
          "output_type": "stream",
          "name": "stdout",
          "text": [
            "Downloading data from https://storage.googleapis.com/tensorflow/tf-keras-datasets/mnist.npz\n",
            "11490434/11490434 [==============================] - 0s 0us/step\n"
          ]
        }
      ],
      "source": [
        "from tensorflow.keras.datasets import mnist\n",
        "(X_train,y_train),(X_test,y_test) = mnist.load_data()"
      ]
    },
    {
      "cell_type": "markdown",
      "source": [
        "#**Data Exploration**"
      ],
      "metadata": {
        "id": "9bOyOV7ynm2z"
      }
    },
    {
      "cell_type": "code",
      "source": [
        "len(X_train), len(X_test)"
      ],
      "metadata": {
        "colab": {
          "base_uri": "https://localhost:8080/"
        },
        "id": "8g5gbxHgRpNT",
        "outputId": "9a4a1999-ae29-47cd-cc4b-be940b57b289"
      },
      "execution_count": 3,
      "outputs": [
        {
          "output_type": "execute_result",
          "data": {
            "text/plain": [
              "(60000, 10000)"
            ]
          },
          "metadata": {},
          "execution_count": 3
        }
      ]
    },
    {
      "cell_type": "code",
      "source": [
        "X_train.shape, y_train.shape"
      ],
      "metadata": {
        "colab": {
          "base_uri": "https://localhost:8080/"
        },
        "id": "ylf4zBFTTEkJ",
        "outputId": "4e812a17-adf0-4fb3-fbdb-bfd370bb8554"
      },
      "execution_count": 4,
      "outputs": [
        {
          "output_type": "execute_result",
          "data": {
            "text/plain": [
              "((60000, 28, 28), (60000,))"
            ]
          },
          "metadata": {},
          "execution_count": 4
        }
      ]
    },
    {
      "cell_type": "code",
      "source": [
        "# View Random Images and their labels from the Dataset\n",
        "\n",
        "def view_random_image(data):\n",
        "  X, y = data\n",
        "  n = random.randint(0, len(X))\n",
        "  print(X[n].shape)\n",
        "  plt.figure(figsize=(3,3))\n",
        "  plt.imshow(X[n], cmap=\"gray\")\n",
        "  plt.title(f\"Label: {y[n]}\")\n",
        "  plt.axis('off')\n",
        "\n",
        "view_random_image((X_train, y_train))"
      ],
      "metadata": {
        "colab": {
          "base_uri": "https://localhost:8080/",
          "height": 308
        },
        "id": "8uuHTteNR77L",
        "outputId": "d47b3122-c496-4279-950e-bbea438a8424"
      },
      "execution_count": 5,
      "outputs": [
        {
          "output_type": "stream",
          "name": "stdout",
          "text": [
            "(28, 28)\n"
          ]
        },
        {
          "output_type": "display_data",
          "data": {
            "text/plain": [
              "<Figure size 300x300 with 1 Axes>"
            ],
            "image/png": "[encoded data removed]"
          },
          "metadata": {}
        }
      ]
    },
    {
      "cell_type": "code",
      "source": [
        "X_train.dtype, y_train.dtype"
      ],
      "metadata": {
        "colab": {
          "base_uri": "https://localhost:8080/"
        },
        "id": "7CwE3uebTHp1",
        "outputId": "7c413425-0165-4585-f70a-6cfdf91e4690"
      },
      "execution_count": 6,
      "outputs": [
        {
          "output_type": "execute_result",
          "data": {
            "text/plain": [
              "(dtype('uint8'), dtype('uint8'))"
            ]
          },
          "metadata": {},
          "execution_count": 6
        }
      ]
    },
    {
      "cell_type": "code",
      "source": [
        "# Change the datatype of train and test data to float32, and normalizing the data\n",
        "\n",
        "X_train, X_test = X_train.astype('float32'), X_test.astype('float32')\n",
        "X_train, X_test = X_train/255. , X_test/255."
      ],
      "metadata": {
        "id": "rYoULw2wTUSB"
      },
      "execution_count": 7,
      "outputs": []
    },
    {
      "cell_type": "code",
      "source": [
        "# Check data distribution to check for data imbalance\n",
        "pd.Series(y_train).value_counts()"
      ],
      "metadata": {
        "colab": {
          "base_uri": "https://localhost:8080/"
        },
        "id": "JUpV4rrvTkFt",
        "outputId": "a564ff1e-6f73-403f-c86d-1e7db9a834bc"
      },
      "execution_count": 8,
      "outputs": [
        {
          "output_type": "execute_result",
          "data": {
            "text/plain": [
              "1    6742\n",
              "7    6265\n",
              "3    6131\n",
              "2    5958\n",
              "9    5949\n",
              "0    5923\n",
              "6    5918\n",
              "8    5851\n",
              "4    5842\n",
              "5    5421\n",
              "dtype: int64"
            ]
          },
          "metadata": {},
          "execution_count": 8
        }
      ]
    },
    {
      "cell_type": "code",
      "source": [
        "# The data seems to be fairly balanced."
      ],
      "metadata": {
        "id": "cD9fw6cGT1Oo"
      },
      "execution_count": 9,
      "outputs": []
    },
    {
      "cell_type": "code",
      "source": [
        "y_train.shape"
      ],
      "metadata": {
        "colab": {
          "base_uri": "https://localhost:8080/"
        },
        "id": "4l8Yg5zgaksn",
        "outputId": "f1882d40-4edc-4543-9c90-0056b5b92cbe"
      },
      "execution_count": 10,
      "outputs": [
        {
          "output_type": "execute_result",
          "data": {
            "text/plain": [
              "(60000,)"
            ]
          },
          "metadata": {},
          "execution_count": 10
        }
      ]
    },
    {
      "cell_type": "markdown",
      "source": [
        "#**Deep Learning - Model Creation**"
      ],
      "metadata": {
        "id": "yYMRiLERnvm0"
      }
    },
    {
      "cell_type": "markdown",
      "source": [
        "##**CNN - 1**"
      ],
      "metadata": {
        "id": "B604k4ajYg_3"
      }
    },
    {
      "cell_type": "code",
      "source": [
        "# Callbacks for the Deep Learning Model\n",
        "\n",
        "from tensorflow.keras.callbacks import ModelCheckpoint\n",
        "\n",
        "# Callback to save the Keras model or model weights at some frequency.\n",
        "model_check_point = ModelCheckpoint(monitor='val_accuracy',filepath='/content/sample_data/MNIST.h5',save_best_only=True,verbose=True)\n",
        "early_stopping = tf.keras.callbacks.EarlyStopping(monitor='val_loss', patience=3)"
      ],
      "metadata": {
        "id": "9VAQBcVHgNu6"
      },
      "execution_count": 11,
      "outputs": []
    },
    {
      "cell_type": "code",
      "source": [
        "# Simple CNN Classification Model\n",
        "\n",
        "from tensorflow.keras.models import Sequential\n",
        "from tensorflow.keras import layers as L\n",
        "\n",
        "model_1 = Sequential()\n",
        "model_1.add(L.Conv2D(16, 3, input_shape = (28, 28, 1), activation=\"relu\"))\n",
        "model_1.add(L.Conv2D(16, 3, activation=\"relu\"))\n",
        "model_1.add(L.Dropout(0.2))\n",
        "model_1.add(L.Conv2D(32, 3, activation=\"relu\"))\n",
        "model_1.add(L.Conv2D(32, 3, activation=\"relu\"))\n",
        "model_1.add(L.Dropout(0.2))\n",
        "model_1.add(L.Conv2D(64, 3, activation=\"relu\"))\n",
        "model_1.add(L.Flatten())\n",
        "model_1.add(L.Dense(64, activation=\"relu\"))\n",
        "model_1.add(L.Dense(10, activation=\"softmax\"))\n",
        "\n",
        "model_1.compile(loss=\"sparse_categorical_crossentropy\", optimizer=tf.keras.optimizers.Adam(learning_rate=1e-3), metrics=[\"accuracy\"])\n",
        "\n",
        "history_1 = model_1.fit(X_train, y_train, epochs=20, batch_size=32,\n",
        "                        validation_data=(X_test,y_test),\n",
        "                        callbacks=[model_check_point, early_stopping])"
      ],
      "metadata": {
        "colab": {
          "base_uri": "https://localhost:8080/"
        },
        "id": "xnTQ6L_UYgKe",
        "outputId": "99430a23-a6d3-4f64-e2b0-2a529757c342"
      },
      "execution_count": 39,
      "outputs": [
        {
          "output_type": "stream",
          "name": "stdout",
          "text": [
            "Epoch 1/20\n",
            "1874/1875 [============================>.] - ETA: 0s - loss: 0.1287 - accuracy: 0.9607\n",
            "Epoch 1: val_accuracy did not improve from 0.99110\n",
            "1875/1875 [==============================] - 16s 6ms/step - loss: 0.1286 - accuracy: 0.9607 - val_loss: 0.0535 - val_accuracy: 0.9830\n",
            "Epoch 2/20\n",
            "1869/1875 [============================>.] - ETA: 0s - loss: 0.0465 - accuracy: 0.9860\n",
            "Epoch 2: val_accuracy did not improve from 0.99110\n",
            "1875/1875 [==============================] - 12s 6ms/step - loss: 0.0465 - accuracy: 0.9860 - val_loss: 0.0395 - val_accuracy: 0.9874\n",
            "Epoch 3/20\n",
            "1873/1875 [============================>.] - ETA: 0s - loss: 0.0324 - accuracy: 0.9900\n",
            "Epoch 3: val_accuracy did not improve from 0.99110\n",
            "1875/1875 [==============================] - 14s 8ms/step - loss: 0.0324 - accuracy: 0.9900 - val_loss: 0.0314 - val_accuracy: 0.9893\n",
            "Epoch 4/20\n",
            "1869/1875 [============================>.] - ETA: 0s - loss: 0.0238 - accuracy: 0.9927\n",
            "Epoch 4: val_accuracy did not improve from 0.99110\n",
            "1875/1875 [==============================] - 15s 8ms/step - loss: 0.0238 - accuracy: 0.9927 - val_loss: 0.0366 - val_accuracy: 0.9881\n",
            "Epoch 5/20\n",
            "1872/1875 [============================>.] - ETA: 0s - loss: 0.0188 - accuracy: 0.9940\n",
            "Epoch 5: val_accuracy did not improve from 0.99110\n",
            "1875/1875 [==============================] - 15s 8ms/step - loss: 0.0188 - accuracy: 0.9940 - val_loss: 0.0421 - val_accuracy: 0.9892\n",
            "Epoch 6/20\n",
            "1867/1875 [============================>.] - ETA: 0s - loss: 0.0153 - accuracy: 0.9949\n",
            "Epoch 6: val_accuracy did not improve from 0.99110\n",
            "1875/1875 [==============================] - 14s 7ms/step - loss: 0.0152 - accuracy: 0.9949 - val_loss: 0.0359 - val_accuracy: 0.9907\n"
          ]
        }
      ]
    },
    {
      "cell_type": "code",
      "source": [
        "#y_preds = model_1.predict(X_test)"
      ],
      "metadata": {
        "colab": {
          "base_uri": "https://localhost:8080/"
        },
        "id": "XzQHuJndjBe-",
        "outputId": "bd0e98df-8c43-4a49-ec90-145278d19e28"
      },
      "execution_count": 16,
      "outputs": [
        {
          "output_type": "stream",
          "name": "stdout",
          "text": [
            "313/313 [==============================] - 1s 2ms/step\n"
          ]
        }
      ]
    },
    {
      "cell_type": "code",
      "source": [
        "y_preds = np.argmax(y_preds, axis=1)\n",
        "y_preds"
      ],
      "metadata": {
        "colab": {
          "base_uri": "https://localhost:8080/"
        },
        "id": "BFzHTwUhjI98",
        "outputId": "85dbd863-60dc-49aa-c680-a8b4c2a05e99"
      },
      "execution_count": 18,
      "outputs": [
        {
          "output_type": "execute_result",
          "data": {
            "text/plain": [
              "array([7, 2, 1, ..., 4, 5, 6])"
            ]
          },
          "metadata": {},
          "execution_count": 18
        }
      ]
    },
    {
      "cell_type": "code",
      "source": [
        "from sklearn.metrics import accuracy_score, precision_score, recall_score, f1_score\n",
        "\n",
        "print(f\"Accuracy: {accuracy_score(y_preds, y_test)}\")\n",
        "print(f\"Precision: {precision_score(y_preds, y_test, average='macro')}\")\n",
        "print(f\"Recall: {recall_score(y_preds, y_test, average='macro')}\")\n",
        "print(f\"F1 Score: {f1_score(y_preds, y_test, average='macro')}\")"
      ],
      "metadata": {
        "colab": {
          "base_uri": "https://localhost:8080/"
        },
        "id": "k5kxy4TMjStx",
        "outputId": "cf45c87a-1dd9-48a7-8d0c-4bfcfa274ebe"
      },
      "execution_count": 20,
      "outputs": [
        {
          "output_type": "stream",
          "name": "stdout",
          "text": [
            "Accuracy: 0.9888\n",
            "Precision: 0.9886892622863541\n",
            "Recall: 0.9888187064341833\n",
            "F1 Score: 0.9887304811719758\n"
          ]
        }
      ]
    },
    {
      "cell_type": "markdown",
      "source": [
        "###Great! The above results are Amazing!"
      ],
      "metadata": {
        "id": "FkJT-H9UoNgG"
      }
    },
    {
      "cell_type": "markdown",
      "source": [
        "#**Viewing some Predictions**"
      ],
      "metadata": {
        "id": "mjsLKQ5YiM-l"
      }
    },
    {
      "cell_type": "code",
      "source": [
        "def view_preds(model, data):\n",
        "  X, y = data\n",
        "  n1, n2, n3 = random.randint(0, len(X)), random.randint(0, len(X)), random.randint(0, len(X))\n",
        "  img1, img2, img3 = X[n1], X[n2], X[n3]\n",
        "  pred1, pred2, pred3 = model.predict(np.expand_dims(img1, axis=0)), model.predict(np.expand_dims(img2, axis=0)), model.predict(np.expand_dims(img3, axis=0))\n",
        "  pred1, pred2, pred3 = np.argmax(pred1, axis=1), np.argmax(pred2, axis=1), np.argmax(pred3, axis=1)\n",
        "\n",
        "  plt.figure(figsize=(6,6))\n",
        "  # Create a figure with six subplots\n",
        "  fig, axs = plt.subplots(3, 2)\n",
        "\n",
        "  # Plot the first image on the left subplot\n",
        "  axs[0][0].imshow(img1, cmap=\"gray\")\n",
        "  axs[0][0].axis(\"off\")\n",
        "  axs[0][0].set_title(f\"Original Label - {y[n1]}\")\n",
        "\n",
        "  # Plot the second image on the right subplot\n",
        "  axs[0][1].imshow(img1, cmap=\"gray\")\n",
        "  axs[0][1].axis(\"off\")\n",
        "  axs[0][1].set_title(f\"Predicted Label - {pred1[0]}\")\n",
        "\n",
        "  # Plot the first image on the left subplot\n",
        "  axs[1][0].imshow(img2, cmap=\"gray\")\n",
        "  axs[1][0].axis(\"off\")\n",
        "  axs[1][0].set_title(f\"Original Label - {y[n2]}\")\n",
        "\n",
        "  # Plot the second image on the right subplot\n",
        "  axs[1][1].imshow(img2, cmap=\"gray\")\n",
        "  axs[1][1].axis(\"off\")\n",
        "  axs[1][1].set_title(f\"Predicted Label - {pred2[0]}\")\n",
        "\n",
        "  # Plot the first image on the left subplot\n",
        "  axs[2][0].imshow(img3, cmap=\"gray\")\n",
        "  axs[2][0].axis(\"off\")\n",
        "  axs[2][0].set_title(f\"Original Label - {y[n3]}\")\n",
        "\n",
        "  # Plot the second image on the right subplot\n",
        "  axs[2][1].imshow(img3, cmap=\"gray\")\n",
        "  axs[2][1].axis(\"off\")\n",
        "  axs[2][1].set_title(f\"Predicted Label - {pred3[0]}\")\n",
        "\n",
        "  # Show the plot\n",
        "  plt.show()"
      ],
      "metadata": {
        "id": "ZQAfoaeGT5_J"
      },
      "execution_count": 36,
      "outputs": []
    },
    {
      "cell_type": "code",
      "source": [
        "view_preds(model_1, (X_test, y_test))"
      ],
      "metadata": {
        "colab": {
          "base_uri": "https://localhost:8080/",
          "height": 501
        },
        "id": "ZcmRKckEkUrA",
        "outputId": "66cd080a-8997-4910-a1c0-ed4abcc3398e"
      },
      "execution_count": 38,
      "outputs": [
        {
          "output_type": "stream",
          "name": "stdout",
          "text": [
            "1/1 [==============================] - 0s 21ms/step\n",
            "1/1 [==============================] - 0s 18ms/step\n",
            "1/1 [==============================] - 0s 19ms/step\n"
          ]
        },
        {
          "output_type": "display_data",
          "data": {
            "text/plain": [
              "<Figure size 600x600 with 0 Axes>"
            ]
          },
          "metadata": {}
        },
        {
          "output_type": "display_data",
          "data": {
            "text/plain": [
              "<Figure size 640x480 with 6 Axes>"
            ],
            "image/png": "[encoded data removed]"
          },
          "metadata": {}
        }
      ]
    },
    {
      "cell_type": "markdown",
      "source": [
        "###**Conclusion:** In this project, we achieved outstanding results in digit recognition using machine learning models on the MNIST dataset. Our model achieved an accuracy of 98.88%, demonstrating its effectiveness in accurately classifying handwritten digits. The precision, recall, and F1 score metrics also show a high level of model performance, making it a reliable tool for digit recognition tasks. This project highlights the power of machine learning in solving complex image classification problems."
      ],
      "metadata": {
        "id": "9PoDj9t9n-q5"
      }
    }
  ]
}